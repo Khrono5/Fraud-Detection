{
 "cells": [
  {
   "cell_type": "markdown",
   "metadata": {},
   "source": [
    "# Comparing Class Weights vs Undersampling to Handle Imbalanced Data\n",
    "\n",
    "In this data set we wish to train a logistic model to detect credit card fraud. Since the data has mostly been handled by performing a PCA, there is no real cleaning/feature engineering required, so we instead choose to focus on two different methodoligies for handling imbalanced data. \n",
    "\n",
    "Imbalanced data occurs when one condition is more prevelant than the other. In this data set of credit card transactions, the vast majority of transactions are legitimate, while less than one percent are fradulent. Training a model without making adjustments would lead to poor performance, leading to many false flags for legitimate transactions allowing fradulent transactions to slip by. We will be examining several methods to conduct this detection of fradulent transactions and determining which appears to be the best methood based by using an F2 score. "
   ]
  },
  {
   "cell_type": "markdown",
   "metadata": {},
   "source": [
    "## loading packages"
   ]
  },
  {
   "cell_type": "code",
   "execution_count": 1,
   "metadata": {},
   "outputs": [
    {
     "data": {
      "text/html": [
       "        <script type=\"text/javascript\">\n",
       "        window.PlotlyConfig = {MathJaxConfig: 'local'};\n",
       "        if (window.MathJax) {MathJax.Hub.Config({SVG: {font: \"STIX-Web\"}});}\n",
       "        if (typeof require !== 'undefined') {\n",
       "        require.undef(\"plotly\");\n",
       "        requirejs.config({\n",
       "            paths: {\n",
       "                'plotly': ['https://cdn.plot.ly/plotly-2.6.3.min']\n",
       "            }\n",
       "        });\n",
       "        require(['plotly'], function(Plotly) {\n",
       "            window._Plotly = Plotly;\n",
       "        });\n",
       "        }\n",
       "        </script>\n",
       "        "
      ]
     },
     "metadata": {},
     "output_type": "display_data"
    },
    {
     "data": {
      "text/html": [
       "        <script type=\"text/javascript\">\n",
       "        window.PlotlyConfig = {MathJaxConfig: 'local'};\n",
       "        if (window.MathJax) {MathJax.Hub.Config({SVG: {font: \"STIX-Web\"}});}\n",
       "        if (typeof require !== 'undefined') {\n",
       "        require.undef(\"plotly\");\n",
       "        requirejs.config({\n",
       "            paths: {\n",
       "                'plotly': ['https://cdn.plot.ly/plotly-2.6.3.min']\n",
       "            }\n",
       "        });\n",
       "        require(['plotly'], function(Plotly) {\n",
       "            window._Plotly = Plotly;\n",
       "        });\n",
       "        }\n",
       "        </script>\n",
       "        "
      ]
     },
     "metadata": {},
     "output_type": "display_data"
    }
   ],
   "source": [
    "import pandas as pd\n",
    "import numpy as np\n",
    "import matplotlib.pyplot as plt\n",
    "import seaborn as sns\n",
    "import plotly.express as px\n",
    "from plotly import __version__\n",
    "from plotly.offline import download_plotlyjs, init_notebook_mode, plot, iplot\n",
    "import cufflinks as cf\n",
    "from sklearn.model_selection import train_test_split, cross_val_score, KFold\n",
    "from sklearn.linear_model import LogisticRegression\n",
    "from sklearn.model_selection import train_test_split, GridSearchCV, cross_val_score, RepeatedStratifiedKFold, StratifiedKFold\n",
    "from sklearn.metrics import classification_report, confusion_matrix, accuracy_score, confusion_matrix,roc_curve, roc_auc_score, precision_score, recall_score, precision_recall_curve, f1_score, matthews_corrcoef, fbeta_score, make_scorer\n",
    "from sklearn.utils.class_weight import compute_class_weight\n",
    "from sklearn.ensemble import RandomForestClassifier\n",
    "from imblearn.under_sampling import EditedNearestNeighbours, RandomUnderSampler, CondensedNearestNeighbour\n",
    "from imblearn.combine import SMOTEENN \n",
    "from imblearn.over_sampling import SMOTE\n",
    "from collections import Counter\n",
    "from scipy.stats import gaussian_kde\n",
    "import time\n",
    "\n",
    "import math\n",
    "init_notebook_mode(connected=True)\n",
    "cf.go_offline()\n",
    "%matplotlib inline"
   ]
  },
  {
   "cell_type": "markdown",
   "metadata": {},
   "source": [
    "## Loading Data"
   ]
  },
  {
   "cell_type": "code",
   "execution_count": 2,
   "metadata": {},
   "outputs": [],
   "source": [
    "df= pd.read_csv(\"creditcard.csv\")"
   ]
  },
  {
   "cell_type": "markdown",
   "metadata": {},
   "source": [
    "## Examining the Data\n",
    "\n",
    "\n",
    "We are examining the data to see if there are any issues or any feature engineering we might need to do. "
   ]
  },
  {
   "cell_type": "code",
   "execution_count": 3,
   "metadata": {
    "scrolled": true
   },
   "outputs": [
    {
     "name": "stdout",
     "output_type": "stream",
     "text": [
      "<class 'pandas.core.frame.DataFrame'>\n",
      "RangeIndex: 284807 entries, 0 to 284806\n",
      "Data columns (total 31 columns):\n",
      " #   Column  Non-Null Count   Dtype  \n",
      "---  ------  --------------   -----  \n",
      " 0   Time    284807 non-null  float64\n",
      " 1   V1      284807 non-null  float64\n",
      " 2   V2      284807 non-null  float64\n",
      " 3   V3      284807 non-null  float64\n",
      " 4   V4      284807 non-null  float64\n",
      " 5   V5      284807 non-null  float64\n",
      " 6   V6      284807 non-null  float64\n",
      " 7   V7      284807 non-null  float64\n",
      " 8   V8      284807 non-null  float64\n",
      " 9   V9      284807 non-null  float64\n",
      " 10  V10     284807 non-null  float64\n",
      " 11  V11     284807 non-null  float64\n",
      " 12  V12     284807 non-null  float64\n",
      " 13  V13     284807 non-null  float64\n",
      " 14  V14     284807 non-null  float64\n",
      " 15  V15     284807 non-null  float64\n",
      " 16  V16     284807 non-null  float64\n",
      " 17  V17     284807 non-null  float64\n",
      " 18  V18     284807 non-null  float64\n",
      " 19  V19     284807 non-null  float64\n",
      " 20  V20     284807 non-null  float64\n",
      " 21  V21     284807 non-null  float64\n",
      " 22  V22     284807 non-null  float64\n",
      " 23  V23     284807 non-null  float64\n",
      " 24  V24     284807 non-null  float64\n",
      " 25  V25     284807 non-null  float64\n",
      " 26  V26     284807 non-null  float64\n",
      " 27  V27     284807 non-null  float64\n",
      " 28  V28     284807 non-null  float64\n",
      " 29  Amount  284807 non-null  float64\n",
      " 30  Class   284807 non-null  int64  \n",
      "dtypes: float64(30), int64(1)\n",
      "memory usage: 67.4 MB\n"
     ]
    }
   ],
   "source": [
    "df.info()"
   ]
  },
  {
   "cell_type": "code",
   "execution_count": 4,
   "metadata": {},
   "outputs": [
    {
     "data": {
      "text/html": [
       "<div>\n",
       "<style scoped>\n",
       "    .dataframe tbody tr th:only-of-type {\n",
       "        vertical-align: middle;\n",
       "    }\n",
       "\n",
       "    .dataframe tbody tr th {\n",
       "        vertical-align: top;\n",
       "    }\n",
       "\n",
       "    .dataframe thead th {\n",
       "        text-align: right;\n",
       "    }\n",
       "</style>\n",
       "<table border=\"1\" class=\"dataframe\">\n",
       "  <thead>\n",
       "    <tr style=\"text-align: right;\">\n",
       "      <th></th>\n",
       "      <th>Time</th>\n",
       "      <th>V1</th>\n",
       "      <th>V2</th>\n",
       "      <th>V3</th>\n",
       "      <th>V4</th>\n",
       "      <th>V5</th>\n",
       "      <th>V6</th>\n",
       "      <th>V7</th>\n",
       "      <th>V8</th>\n",
       "      <th>V9</th>\n",
       "      <th>...</th>\n",
       "      <th>V21</th>\n",
       "      <th>V22</th>\n",
       "      <th>V23</th>\n",
       "      <th>V24</th>\n",
       "      <th>V25</th>\n",
       "      <th>V26</th>\n",
       "      <th>V27</th>\n",
       "      <th>V28</th>\n",
       "      <th>Amount</th>\n",
       "      <th>Class</th>\n",
       "    </tr>\n",
       "  </thead>\n",
       "  <tbody>\n",
       "    <tr>\n",
       "      <th>count</th>\n",
       "      <td>284807.000000</td>\n",
       "      <td>2.848070e+05</td>\n",
       "      <td>2.848070e+05</td>\n",
       "      <td>2.848070e+05</td>\n",
       "      <td>2.848070e+05</td>\n",
       "      <td>2.848070e+05</td>\n",
       "      <td>2.848070e+05</td>\n",
       "      <td>2.848070e+05</td>\n",
       "      <td>2.848070e+05</td>\n",
       "      <td>2.848070e+05</td>\n",
       "      <td>...</td>\n",
       "      <td>2.848070e+05</td>\n",
       "      <td>2.848070e+05</td>\n",
       "      <td>2.848070e+05</td>\n",
       "      <td>2.848070e+05</td>\n",
       "      <td>2.848070e+05</td>\n",
       "      <td>2.848070e+05</td>\n",
       "      <td>2.848070e+05</td>\n",
       "      <td>2.848070e+05</td>\n",
       "      <td>284807.000000</td>\n",
       "      <td>284807.000000</td>\n",
       "    </tr>\n",
       "    <tr>\n",
       "      <th>mean</th>\n",
       "      <td>94813.859575</td>\n",
       "      <td>3.918649e-15</td>\n",
       "      <td>5.682686e-16</td>\n",
       "      <td>-8.761736e-15</td>\n",
       "      <td>2.811118e-15</td>\n",
       "      <td>-1.552103e-15</td>\n",
       "      <td>2.040130e-15</td>\n",
       "      <td>-1.698953e-15</td>\n",
       "      <td>-1.893285e-16</td>\n",
       "      <td>-3.147640e-15</td>\n",
       "      <td>...</td>\n",
       "      <td>1.473120e-16</td>\n",
       "      <td>8.042109e-16</td>\n",
       "      <td>5.282512e-16</td>\n",
       "      <td>4.456271e-15</td>\n",
       "      <td>1.426896e-15</td>\n",
       "      <td>1.701640e-15</td>\n",
       "      <td>-3.662252e-16</td>\n",
       "      <td>-1.217809e-16</td>\n",
       "      <td>88.349619</td>\n",
       "      <td>0.001727</td>\n",
       "    </tr>\n",
       "    <tr>\n",
       "      <th>std</th>\n",
       "      <td>47488.145955</td>\n",
       "      <td>1.958696e+00</td>\n",
       "      <td>1.651309e+00</td>\n",
       "      <td>1.516255e+00</td>\n",
       "      <td>1.415869e+00</td>\n",
       "      <td>1.380247e+00</td>\n",
       "      <td>1.332271e+00</td>\n",
       "      <td>1.237094e+00</td>\n",
       "      <td>1.194353e+00</td>\n",
       "      <td>1.098632e+00</td>\n",
       "      <td>...</td>\n",
       "      <td>7.345240e-01</td>\n",
       "      <td>7.257016e-01</td>\n",
       "      <td>6.244603e-01</td>\n",
       "      <td>6.056471e-01</td>\n",
       "      <td>5.212781e-01</td>\n",
       "      <td>4.822270e-01</td>\n",
       "      <td>4.036325e-01</td>\n",
       "      <td>3.300833e-01</td>\n",
       "      <td>250.120109</td>\n",
       "      <td>0.041527</td>\n",
       "    </tr>\n",
       "    <tr>\n",
       "      <th>min</th>\n",
       "      <td>0.000000</td>\n",
       "      <td>-5.640751e+01</td>\n",
       "      <td>-7.271573e+01</td>\n",
       "      <td>-4.832559e+01</td>\n",
       "      <td>-5.683171e+00</td>\n",
       "      <td>-1.137433e+02</td>\n",
       "      <td>-2.616051e+01</td>\n",
       "      <td>-4.355724e+01</td>\n",
       "      <td>-7.321672e+01</td>\n",
       "      <td>-1.343407e+01</td>\n",
       "      <td>...</td>\n",
       "      <td>-3.483038e+01</td>\n",
       "      <td>-1.093314e+01</td>\n",
       "      <td>-4.480774e+01</td>\n",
       "      <td>-2.836627e+00</td>\n",
       "      <td>-1.029540e+01</td>\n",
       "      <td>-2.604551e+00</td>\n",
       "      <td>-2.256568e+01</td>\n",
       "      <td>-1.543008e+01</td>\n",
       "      <td>0.000000</td>\n",
       "      <td>0.000000</td>\n",
       "    </tr>\n",
       "    <tr>\n",
       "      <th>25%</th>\n",
       "      <td>54201.500000</td>\n",
       "      <td>-9.203734e-01</td>\n",
       "      <td>-5.985499e-01</td>\n",
       "      <td>-8.903648e-01</td>\n",
       "      <td>-8.486401e-01</td>\n",
       "      <td>-6.915971e-01</td>\n",
       "      <td>-7.682956e-01</td>\n",
       "      <td>-5.540759e-01</td>\n",
       "      <td>-2.086297e-01</td>\n",
       "      <td>-6.430976e-01</td>\n",
       "      <td>...</td>\n",
       "      <td>-2.283949e-01</td>\n",
       "      <td>-5.423504e-01</td>\n",
       "      <td>-1.618463e-01</td>\n",
       "      <td>-3.545861e-01</td>\n",
       "      <td>-3.171451e-01</td>\n",
       "      <td>-3.269839e-01</td>\n",
       "      <td>-7.083953e-02</td>\n",
       "      <td>-5.295979e-02</td>\n",
       "      <td>5.600000</td>\n",
       "      <td>0.000000</td>\n",
       "    </tr>\n",
       "    <tr>\n",
       "      <th>50%</th>\n",
       "      <td>84692.000000</td>\n",
       "      <td>1.810880e-02</td>\n",
       "      <td>6.548556e-02</td>\n",
       "      <td>1.798463e-01</td>\n",
       "      <td>-1.984653e-02</td>\n",
       "      <td>-5.433583e-02</td>\n",
       "      <td>-2.741871e-01</td>\n",
       "      <td>4.010308e-02</td>\n",
       "      <td>2.235804e-02</td>\n",
       "      <td>-5.142873e-02</td>\n",
       "      <td>...</td>\n",
       "      <td>-2.945017e-02</td>\n",
       "      <td>6.781943e-03</td>\n",
       "      <td>-1.119293e-02</td>\n",
       "      <td>4.097606e-02</td>\n",
       "      <td>1.659350e-02</td>\n",
       "      <td>-5.213911e-02</td>\n",
       "      <td>1.342146e-03</td>\n",
       "      <td>1.124383e-02</td>\n",
       "      <td>22.000000</td>\n",
       "      <td>0.000000</td>\n",
       "    </tr>\n",
       "    <tr>\n",
       "      <th>75%</th>\n",
       "      <td>139320.500000</td>\n",
       "      <td>1.315642e+00</td>\n",
       "      <td>8.037239e-01</td>\n",
       "      <td>1.027196e+00</td>\n",
       "      <td>7.433413e-01</td>\n",
       "      <td>6.119264e-01</td>\n",
       "      <td>3.985649e-01</td>\n",
       "      <td>5.704361e-01</td>\n",
       "      <td>3.273459e-01</td>\n",
       "      <td>5.971390e-01</td>\n",
       "      <td>...</td>\n",
       "      <td>1.863772e-01</td>\n",
       "      <td>5.285536e-01</td>\n",
       "      <td>1.476421e-01</td>\n",
       "      <td>4.395266e-01</td>\n",
       "      <td>3.507156e-01</td>\n",
       "      <td>2.409522e-01</td>\n",
       "      <td>9.104512e-02</td>\n",
       "      <td>7.827995e-02</td>\n",
       "      <td>77.165000</td>\n",
       "      <td>0.000000</td>\n",
       "    </tr>\n",
       "    <tr>\n",
       "      <th>max</th>\n",
       "      <td>172792.000000</td>\n",
       "      <td>2.454930e+00</td>\n",
       "      <td>2.205773e+01</td>\n",
       "      <td>9.382558e+00</td>\n",
       "      <td>1.687534e+01</td>\n",
       "      <td>3.480167e+01</td>\n",
       "      <td>7.330163e+01</td>\n",
       "      <td>1.205895e+02</td>\n",
       "      <td>2.000721e+01</td>\n",
       "      <td>1.559499e+01</td>\n",
       "      <td>...</td>\n",
       "      <td>2.720284e+01</td>\n",
       "      <td>1.050309e+01</td>\n",
       "      <td>2.252841e+01</td>\n",
       "      <td>4.584549e+00</td>\n",
       "      <td>7.519589e+00</td>\n",
       "      <td>3.517346e+00</td>\n",
       "      <td>3.161220e+01</td>\n",
       "      <td>3.384781e+01</td>\n",
       "      <td>25691.160000</td>\n",
       "      <td>1.000000</td>\n",
       "    </tr>\n",
       "  </tbody>\n",
       "</table>\n",
       "<p>8 rows × 31 columns</p>\n",
       "</div>"
      ],
      "text/plain": [
       "                Time            V1            V2            V3            V4  \\\n",
       "count  284807.000000  2.848070e+05  2.848070e+05  2.848070e+05  2.848070e+05   \n",
       "mean    94813.859575  3.918649e-15  5.682686e-16 -8.761736e-15  2.811118e-15   \n",
       "std     47488.145955  1.958696e+00  1.651309e+00  1.516255e+00  1.415869e+00   \n",
       "min         0.000000 -5.640751e+01 -7.271573e+01 -4.832559e+01 -5.683171e+00   \n",
       "25%     54201.500000 -9.203734e-01 -5.985499e-01 -8.903648e-01 -8.486401e-01   \n",
       "50%     84692.000000  1.810880e-02  6.548556e-02  1.798463e-01 -1.984653e-02   \n",
       "75%    139320.500000  1.315642e+00  8.037239e-01  1.027196e+00  7.433413e-01   \n",
       "max    172792.000000  2.454930e+00  2.205773e+01  9.382558e+00  1.687534e+01   \n",
       "\n",
       "                 V5            V6            V7            V8            V9  \\\n",
       "count  2.848070e+05  2.848070e+05  2.848070e+05  2.848070e+05  2.848070e+05   \n",
       "mean  -1.552103e-15  2.040130e-15 -1.698953e-15 -1.893285e-16 -3.147640e-15   \n",
       "std    1.380247e+00  1.332271e+00  1.237094e+00  1.194353e+00  1.098632e+00   \n",
       "min   -1.137433e+02 -2.616051e+01 -4.355724e+01 -7.321672e+01 -1.343407e+01   \n",
       "25%   -6.915971e-01 -7.682956e-01 -5.540759e-01 -2.086297e-01 -6.430976e-01   \n",
       "50%   -5.433583e-02 -2.741871e-01  4.010308e-02  2.235804e-02 -5.142873e-02   \n",
       "75%    6.119264e-01  3.985649e-01  5.704361e-01  3.273459e-01  5.971390e-01   \n",
       "max    3.480167e+01  7.330163e+01  1.205895e+02  2.000721e+01  1.559499e+01   \n",
       "\n",
       "       ...           V21           V22           V23           V24  \\\n",
       "count  ...  2.848070e+05  2.848070e+05  2.848070e+05  2.848070e+05   \n",
       "mean   ...  1.473120e-16  8.042109e-16  5.282512e-16  4.456271e-15   \n",
       "std    ...  7.345240e-01  7.257016e-01  6.244603e-01  6.056471e-01   \n",
       "min    ... -3.483038e+01 -1.093314e+01 -4.480774e+01 -2.836627e+00   \n",
       "25%    ... -2.283949e-01 -5.423504e-01 -1.618463e-01 -3.545861e-01   \n",
       "50%    ... -2.945017e-02  6.781943e-03 -1.119293e-02  4.097606e-02   \n",
       "75%    ...  1.863772e-01  5.285536e-01  1.476421e-01  4.395266e-01   \n",
       "max    ...  2.720284e+01  1.050309e+01  2.252841e+01  4.584549e+00   \n",
       "\n",
       "                V25           V26           V27           V28         Amount  \\\n",
       "count  2.848070e+05  2.848070e+05  2.848070e+05  2.848070e+05  284807.000000   \n",
       "mean   1.426896e-15  1.701640e-15 -3.662252e-16 -1.217809e-16      88.349619   \n",
       "std    5.212781e-01  4.822270e-01  4.036325e-01  3.300833e-01     250.120109   \n",
       "min   -1.029540e+01 -2.604551e+00 -2.256568e+01 -1.543008e+01       0.000000   \n",
       "25%   -3.171451e-01 -3.269839e-01 -7.083953e-02 -5.295979e-02       5.600000   \n",
       "50%    1.659350e-02 -5.213911e-02  1.342146e-03  1.124383e-02      22.000000   \n",
       "75%    3.507156e-01  2.409522e-01  9.104512e-02  7.827995e-02      77.165000   \n",
       "max    7.519589e+00  3.517346e+00  3.161220e+01  3.384781e+01   25691.160000   \n",
       "\n",
       "               Class  \n",
       "count  284807.000000  \n",
       "mean        0.001727  \n",
       "std         0.041527  \n",
       "min         0.000000  \n",
       "25%         0.000000  \n",
       "50%         0.000000  \n",
       "75%         0.000000  \n",
       "max         1.000000  \n",
       "\n",
       "[8 rows x 31 columns]"
      ]
     },
     "execution_count": 4,
     "metadata": {},
     "output_type": "execute_result"
    }
   ],
   "source": [
    "df.describe()"
   ]
  },
  {
   "cell_type": "code",
   "execution_count": 5,
   "metadata": {},
   "outputs": [],
   "source": [
    "#sns.pairplot(df, hue='Class')"
   ]
  },
  {
   "cell_type": "code",
   "execution_count": 6,
   "metadata": {},
   "outputs": [],
   "source": [
    "df.drop_duplicates(keep='first', inplace=True)"
   ]
  },
  {
   "cell_type": "code",
   "execution_count": 7,
   "metadata": {},
   "outputs": [],
   "source": [
    "#sns.pairplot(df, x_vars=['Time'])"
   ]
  },
  {
   "cell_type": "markdown",
   "metadata": {},
   "source": [
    "\n",
    "\n",
    "xy = np.vstack([df['Time'],df['Class']])\n",
    "z = gaussian_kde(xy)(xy)\n",
    "\n",
    "fig, ax = plt.subplots()\n",
    "ax.scatter(df['Time'], df['Class'], c=z, s=100)\n",
    "plt.show()"
   ]
  },
  {
   "cell_type": "code",
   "execution_count": 8,
   "metadata": {},
   "outputs": [],
   "source": [
    "def time_fix(x):\n",
    "    if x>=86400:\n",
    "        return x-86400\n",
    "    else: \n",
    "        return x\n",
    "        "
   ]
  },
  {
   "cell_type": "code",
   "execution_count": null,
   "metadata": {},
   "outputs": [],
   "source": []
  },
  {
   "cell_type": "code",
   "execution_count": 9,
   "metadata": {},
   "outputs": [
    {
     "data": {
      "text/html": [
       "<div>\n",
       "<style scoped>\n",
       "    .dataframe tbody tr th:only-of-type {\n",
       "        vertical-align: middle;\n",
       "    }\n",
       "\n",
       "    .dataframe tbody tr th {\n",
       "        vertical-align: top;\n",
       "    }\n",
       "\n",
       "    .dataframe thead th {\n",
       "        text-align: right;\n",
       "    }\n",
       "</style>\n",
       "<table border=\"1\" class=\"dataframe\">\n",
       "  <thead>\n",
       "    <tr style=\"text-align: right;\">\n",
       "      <th></th>\n",
       "      <th>Time</th>\n",
       "      <th>V1</th>\n",
       "      <th>V2</th>\n",
       "      <th>V3</th>\n",
       "      <th>V4</th>\n",
       "      <th>V5</th>\n",
       "      <th>V6</th>\n",
       "      <th>V7</th>\n",
       "      <th>V8</th>\n",
       "      <th>V9</th>\n",
       "      <th>...</th>\n",
       "      <th>V21</th>\n",
       "      <th>V22</th>\n",
       "      <th>V23</th>\n",
       "      <th>V24</th>\n",
       "      <th>V25</th>\n",
       "      <th>V26</th>\n",
       "      <th>V27</th>\n",
       "      <th>V28</th>\n",
       "      <th>Amount</th>\n",
       "      <th>Class</th>\n",
       "    </tr>\n",
       "  </thead>\n",
       "  <tbody>\n",
       "    <tr>\n",
       "      <th>count</th>\n",
       "      <td>283726.000000</td>\n",
       "      <td>283726.000000</td>\n",
       "      <td>283726.000000</td>\n",
       "      <td>283726.000000</td>\n",
       "      <td>283726.000000</td>\n",
       "      <td>283726.000000</td>\n",
       "      <td>283726.000000</td>\n",
       "      <td>283726.000000</td>\n",
       "      <td>283726.000000</td>\n",
       "      <td>283726.000000</td>\n",
       "      <td>...</td>\n",
       "      <td>283726.000000</td>\n",
       "      <td>283726.000000</td>\n",
       "      <td>283726.000000</td>\n",
       "      <td>283726.000000</td>\n",
       "      <td>283726.000000</td>\n",
       "      <td>283726.000000</td>\n",
       "      <td>283726.000000</td>\n",
       "      <td>283726.000000</td>\n",
       "      <td>283726.000000</td>\n",
       "      <td>283726.000000</td>\n",
       "    </tr>\n",
       "    <tr>\n",
       "      <th>mean</th>\n",
       "      <td>94811.077600</td>\n",
       "      <td>0.005917</td>\n",
       "      <td>-0.004135</td>\n",
       "      <td>0.001613</td>\n",
       "      <td>-0.002966</td>\n",
       "      <td>0.001828</td>\n",
       "      <td>-0.001139</td>\n",
       "      <td>0.001801</td>\n",
       "      <td>-0.000854</td>\n",
       "      <td>-0.001596</td>\n",
       "      <td>...</td>\n",
       "      <td>-0.000371</td>\n",
       "      <td>-0.000015</td>\n",
       "      <td>0.000198</td>\n",
       "      <td>0.000214</td>\n",
       "      <td>-0.000232</td>\n",
       "      <td>0.000149</td>\n",
       "      <td>0.001763</td>\n",
       "      <td>0.000547</td>\n",
       "      <td>88.472687</td>\n",
       "      <td>0.001667</td>\n",
       "    </tr>\n",
       "    <tr>\n",
       "      <th>std</th>\n",
       "      <td>47481.047891</td>\n",
       "      <td>1.948026</td>\n",
       "      <td>1.646703</td>\n",
       "      <td>1.508682</td>\n",
       "      <td>1.414184</td>\n",
       "      <td>1.377008</td>\n",
       "      <td>1.331931</td>\n",
       "      <td>1.227664</td>\n",
       "      <td>1.179054</td>\n",
       "      <td>1.095492</td>\n",
       "      <td>...</td>\n",
       "      <td>0.723909</td>\n",
       "      <td>0.724550</td>\n",
       "      <td>0.623702</td>\n",
       "      <td>0.605627</td>\n",
       "      <td>0.521220</td>\n",
       "      <td>0.482053</td>\n",
       "      <td>0.395744</td>\n",
       "      <td>0.328027</td>\n",
       "      <td>250.399437</td>\n",
       "      <td>0.040796</td>\n",
       "    </tr>\n",
       "    <tr>\n",
       "      <th>min</th>\n",
       "      <td>0.000000</td>\n",
       "      <td>-56.407510</td>\n",
       "      <td>-72.715728</td>\n",
       "      <td>-48.325589</td>\n",
       "      <td>-5.683171</td>\n",
       "      <td>-113.743307</td>\n",
       "      <td>-26.160506</td>\n",
       "      <td>-43.557242</td>\n",
       "      <td>-73.216718</td>\n",
       "      <td>-13.434066</td>\n",
       "      <td>...</td>\n",
       "      <td>-34.830382</td>\n",
       "      <td>-10.933144</td>\n",
       "      <td>-44.807735</td>\n",
       "      <td>-2.836627</td>\n",
       "      <td>-10.295397</td>\n",
       "      <td>-2.604551</td>\n",
       "      <td>-22.565679</td>\n",
       "      <td>-15.430084</td>\n",
       "      <td>0.000000</td>\n",
       "      <td>0.000000</td>\n",
       "    </tr>\n",
       "    <tr>\n",
       "      <th>25%</th>\n",
       "      <td>54204.750000</td>\n",
       "      <td>-0.915951</td>\n",
       "      <td>-0.600321</td>\n",
       "      <td>-0.889682</td>\n",
       "      <td>-0.850134</td>\n",
       "      <td>-0.689830</td>\n",
       "      <td>-0.769031</td>\n",
       "      <td>-0.552509</td>\n",
       "      <td>-0.208828</td>\n",
       "      <td>-0.644221</td>\n",
       "      <td>...</td>\n",
       "      <td>-0.228305</td>\n",
       "      <td>-0.542700</td>\n",
       "      <td>-0.161703</td>\n",
       "      <td>-0.354453</td>\n",
       "      <td>-0.317485</td>\n",
       "      <td>-0.326763</td>\n",
       "      <td>-0.070641</td>\n",
       "      <td>-0.052818</td>\n",
       "      <td>5.600000</td>\n",
       "      <td>0.000000</td>\n",
       "    </tr>\n",
       "    <tr>\n",
       "      <th>50%</th>\n",
       "      <td>84692.500000</td>\n",
       "      <td>0.020384</td>\n",
       "      <td>0.063949</td>\n",
       "      <td>0.179963</td>\n",
       "      <td>-0.022248</td>\n",
       "      <td>-0.053468</td>\n",
       "      <td>-0.275168</td>\n",
       "      <td>0.040859</td>\n",
       "      <td>0.021898</td>\n",
       "      <td>-0.052596</td>\n",
       "      <td>...</td>\n",
       "      <td>-0.029441</td>\n",
       "      <td>0.006675</td>\n",
       "      <td>-0.011159</td>\n",
       "      <td>0.041016</td>\n",
       "      <td>0.016278</td>\n",
       "      <td>-0.052172</td>\n",
       "      <td>0.001479</td>\n",
       "      <td>0.011288</td>\n",
       "      <td>22.000000</td>\n",
       "      <td>0.000000</td>\n",
       "    </tr>\n",
       "    <tr>\n",
       "      <th>75%</th>\n",
       "      <td>139298.000000</td>\n",
       "      <td>1.316068</td>\n",
       "      <td>0.800283</td>\n",
       "      <td>1.026960</td>\n",
       "      <td>0.739647</td>\n",
       "      <td>0.612218</td>\n",
       "      <td>0.396792</td>\n",
       "      <td>0.570474</td>\n",
       "      <td>0.325704</td>\n",
       "      <td>0.595977</td>\n",
       "      <td>...</td>\n",
       "      <td>0.186194</td>\n",
       "      <td>0.528245</td>\n",
       "      <td>0.147748</td>\n",
       "      <td>0.439738</td>\n",
       "      <td>0.350667</td>\n",
       "      <td>0.240261</td>\n",
       "      <td>0.091208</td>\n",
       "      <td>0.078276</td>\n",
       "      <td>77.510000</td>\n",
       "      <td>0.000000</td>\n",
       "    </tr>\n",
       "    <tr>\n",
       "      <th>max</th>\n",
       "      <td>172792.000000</td>\n",
       "      <td>2.454930</td>\n",
       "      <td>22.057729</td>\n",
       "      <td>9.382558</td>\n",
       "      <td>16.875344</td>\n",
       "      <td>34.801666</td>\n",
       "      <td>73.301626</td>\n",
       "      <td>120.589494</td>\n",
       "      <td>20.007208</td>\n",
       "      <td>15.594995</td>\n",
       "      <td>...</td>\n",
       "      <td>27.202839</td>\n",
       "      <td>10.503090</td>\n",
       "      <td>22.528412</td>\n",
       "      <td>4.584549</td>\n",
       "      <td>7.519589</td>\n",
       "      <td>3.517346</td>\n",
       "      <td>31.612198</td>\n",
       "      <td>33.847808</td>\n",
       "      <td>25691.160000</td>\n",
       "      <td>1.000000</td>\n",
       "    </tr>\n",
       "  </tbody>\n",
       "</table>\n",
       "<p>8 rows × 31 columns</p>\n",
       "</div>"
      ],
      "text/plain": [
       "                Time             V1             V2             V3  \\\n",
       "count  283726.000000  283726.000000  283726.000000  283726.000000   \n",
       "mean    94811.077600       0.005917      -0.004135       0.001613   \n",
       "std     47481.047891       1.948026       1.646703       1.508682   \n",
       "min         0.000000     -56.407510     -72.715728     -48.325589   \n",
       "25%     54204.750000      -0.915951      -0.600321      -0.889682   \n",
       "50%     84692.500000       0.020384       0.063949       0.179963   \n",
       "75%    139298.000000       1.316068       0.800283       1.026960   \n",
       "max    172792.000000       2.454930      22.057729       9.382558   \n",
       "\n",
       "                  V4             V5             V6             V7  \\\n",
       "count  283726.000000  283726.000000  283726.000000  283726.000000   \n",
       "mean       -0.002966       0.001828      -0.001139       0.001801   \n",
       "std         1.414184       1.377008       1.331931       1.227664   \n",
       "min        -5.683171    -113.743307     -26.160506     -43.557242   \n",
       "25%        -0.850134      -0.689830      -0.769031      -0.552509   \n",
       "50%        -0.022248      -0.053468      -0.275168       0.040859   \n",
       "75%         0.739647       0.612218       0.396792       0.570474   \n",
       "max        16.875344      34.801666      73.301626     120.589494   \n",
       "\n",
       "                  V8             V9  ...            V21            V22  \\\n",
       "count  283726.000000  283726.000000  ...  283726.000000  283726.000000   \n",
       "mean       -0.000854      -0.001596  ...      -0.000371      -0.000015   \n",
       "std         1.179054       1.095492  ...       0.723909       0.724550   \n",
       "min       -73.216718     -13.434066  ...     -34.830382     -10.933144   \n",
       "25%        -0.208828      -0.644221  ...      -0.228305      -0.542700   \n",
       "50%         0.021898      -0.052596  ...      -0.029441       0.006675   \n",
       "75%         0.325704       0.595977  ...       0.186194       0.528245   \n",
       "max        20.007208      15.594995  ...      27.202839      10.503090   \n",
       "\n",
       "                 V23            V24            V25            V26  \\\n",
       "count  283726.000000  283726.000000  283726.000000  283726.000000   \n",
       "mean        0.000198       0.000214      -0.000232       0.000149   \n",
       "std         0.623702       0.605627       0.521220       0.482053   \n",
       "min       -44.807735      -2.836627     -10.295397      -2.604551   \n",
       "25%        -0.161703      -0.354453      -0.317485      -0.326763   \n",
       "50%        -0.011159       0.041016       0.016278      -0.052172   \n",
       "75%         0.147748       0.439738       0.350667       0.240261   \n",
       "max        22.528412       4.584549       7.519589       3.517346   \n",
       "\n",
       "                 V27            V28         Amount          Class  \n",
       "count  283726.000000  283726.000000  283726.000000  283726.000000  \n",
       "mean        0.001763       0.000547      88.472687       0.001667  \n",
       "std         0.395744       0.328027     250.399437       0.040796  \n",
       "min       -22.565679     -15.430084       0.000000       0.000000  \n",
       "25%        -0.070641      -0.052818       5.600000       0.000000  \n",
       "50%         0.001479       0.011288      22.000000       0.000000  \n",
       "75%         0.091208       0.078276      77.510000       0.000000  \n",
       "max        31.612198      33.847808   25691.160000       1.000000  \n",
       "\n",
       "[8 rows x 31 columns]"
      ]
     },
     "execution_count": 9,
     "metadata": {},
     "output_type": "execute_result"
    }
   ],
   "source": [
    "df.describe()"
   ]
  },
  {
   "cell_type": "markdown",
   "metadata": {},
   "source": [
    "Time may play an important role in determining if the activity was fradulent. We want to compare the time data to the fraud cases and see if there is a more common time that fraud tends to happen."
   ]
  },
  {
   "cell_type": "code",
   "execution_count": 10,
   "metadata": {},
   "outputs": [
    {
     "data": {
      "text/plain": [
       "<AxesSubplot:xlabel='Time', ylabel='Count'>"
      ]
     },
     "execution_count": 10,
     "metadata": {},
     "output_type": "execute_result"
    },
    {
     "data": {
      "image/png": "[encoded data removed]",
      "text/plain": [
       "<Figure size 432x288 with 1 Axes>"
      ]
     },
     "metadata": {
      "needs_background": "light"
     },
     "output_type": "display_data"
    }
   ],
   "source": [
    "xfraud=df['Time'][df['Class']==1]\n",
    "xnofraud=df['Time'][df['Class']==0]\n",
    "sns.histplot(xfraud, bins=96, kde=True)\n"
   ]
  },
  {
   "cell_type": "code",
   "execution_count": 11,
   "metadata": {},
   "outputs": [],
   "source": [
    "df['Time_Fix']=df['Time'].apply(lambda x: time_fix(x) )"
   ]
  },
  {
   "cell_type": "code",
   "execution_count": 12,
   "metadata": {},
   "outputs": [
    {
     "data": {
      "text/plain": [
       "<AxesSubplot:xlabel='Time_Fix', ylabel='Count'>"
      ]
     },
     "execution_count": 12,
     "metadata": {},
     "output_type": "execute_result"
    },
    {
     "data": {
      "image/png": "[encoded data removed]",
      "text/plain": [
       "<Figure size 432x288 with 1 Axes>"
      ]
     },
     "metadata": {
      "needs_background": "light"
     },
     "output_type": "display_data"
    }
   ],
   "source": [
    "\n",
    "xfraud=df['Time_Fix'][df['Class']==1]\n",
    "xnofraud=df['Time_Fix'][df['Class']==0]\n",
    "sns.histplot(xfraud, bins=48, kde=True)"
   ]
  },
  {
   "cell_type": "markdown",
   "metadata": {},
   "source": [
    "We were hoping to see some obvious sinusoidal pattern but that doesn't appear to be the case. "
   ]
  },
  {
   "cell_type": "code",
   "execution_count": 13,
   "metadata": {},
   "outputs": [],
   "source": [
    "#sns.histplot(xnofraud, bins=48, kde = True)"
   ]
  },
  {
   "cell_type": "markdown",
   "metadata": {},
   "source": [
    "## Splitting the Data into Training and Testing sets"
   ]
  },
  {
   "cell_type": "code",
   "execution_count": 14,
   "metadata": {},
   "outputs": [],
   "source": [
    "X=df.drop(['Class', 'Time'], axis = 1)\n",
    "y=df['Class']\n",
    "\n",
    "\n",
    "X_train, X_test, y_train, y_test = train_test_split(X,y, test_size =0.3, random_state=42)"
   ]
  },
  {
   "cell_type": "code",
   "execution_count": 15,
   "metadata": {},
   "outputs": [
    {
     "data": {
      "text/plain": [
       "0    84984\n",
       "1      134\n",
       "Name: Class, dtype: int64"
      ]
     },
     "execution_count": 15,
     "metadata": {},
     "output_type": "execute_result"
    }
   ],
   "source": [
    "y_test.value_counts()"
   ]
  },
  {
   "cell_type": "markdown",
   "metadata": {},
   "source": [
    "## Functions written to assist with displaying data and defining our metric.\n"
   ]
  },
  {
   "cell_type": "markdown",
   "metadata": {},
   "source": [
    "This custom scorer will be used for cross validation later on in the process."
   ]
  },
  {
   "cell_type": "code",
   "execution_count": 16,
   "metadata": {},
   "outputs": [],
   "source": [
    "ftwo_scorer =  make_scorer(fbeta_score, beta=2)"
   ]
  },
  {
   "cell_type": "markdown",
   "metadata": {},
   "source": [
    "This function displays the results of our classification and stores the values we are interested in for comparison at the end of the notebook. "
   ]
  },
  {
   "cell_type": "code",
   "execution_count": 119,
   "metadata": {},
   "outputs": [],
   "source": [
    "def classresults(pred, trueval):\n",
    "    #print(classification_report(trueval, pred))\n",
    "    \n",
    "    #print(f'Accuracy Score: {accuracy_score(trueval,pred)}')\n",
    "    #print(f'Area Under Curve: {roc_auc_score(trueval, pred)}')\n",
    "    print('\\033[1m' + 'Results:')\n",
    "    print('\\033[0m' + f'Precision: {precision_score(trueval,pred)}')\n",
    "    print(f'Recall: {recall_score(trueval,pred)}')\n",
    "    print(f'f1 score: {f1_score(trueval,pred)}')\n",
    "    #print(f'Matthews Correlation Coefficient: {matthews_corrcoef(trueval,pred)}')\n",
    "    print(f'F2 score: {fbeta_score(trueval,pred, beta=2)}')\n",
    "    print('Confusion Matrix:')\n",
    "    print(confusion_matrix(trueval, pred))\n",
    "    cm=confusion_matrix(trueval, pred)\n",
    "    ts=np.hstack(cm)\n",
    "    ts=np.append(ts,[recall_score(trueval,pred), precision_score(trueval,pred), f1_score(trueval,pred),fbeta_score(trueval,pred, beta =2)] )\n",
    "    return ts"
   ]
  },
  {
   "cell_type": "markdown",
   "metadata": {},
   "source": [
    "This function finds the threshold in order to reach a certain minimum recall from our model. "
   ]
  },
  {
   "cell_type": "code",
   "execution_count": 105,
   "metadata": {},
   "outputs": [],
   "source": [
    "def threshold_at_recall(clf, X, y, desired_recall):\n",
    "    \n",
    "    precision_, recall_, thresholds_ = precision_recall_curve(y, clf.predict_proba(X)[:,1])\n",
    "   \n",
    "    return thresholds_[(recall_ > desired_recall).sum()-1]"
   ]
  },
  {
   "cell_type": "markdown",
   "metadata": {},
   "source": [
    "This function runs a cross validation on the fitted models with the training data to get an estimate of it's performance. "
   ]
  },
  {
   "cell_type": "code",
   "execution_count": 19,
   "metadata": {},
   "outputs": [],
   "source": [
    "def croscor(model, X_set, y_set, scorer):\n",
    "    cv = RepeatedStratifiedKFold(n_splits=5, n_repeats=4, random_state=101)\n",
    "    t_start=time.time()\n",
    "    score_temp = cross_val_score(model, X_set, y_set, scoring=scorer, cv=cv, n_jobs=-1)\n",
    "    print(score_temp)\n",
    "    print('Mean f2 score: %.3f' %score_temp.mean())\n",
    "    t_stop= time.time()\n",
    "    print(\"Elapsed time:\", t_stop, t_start)\n",
    "    print(\"Elapsed time during the whole program in seconds:\",t_stop-t_start)    \n",
    "    return score_temp.mean()"
   ]
  },
  {
   "cell_type": "markdown",
   "metadata": {},
   "source": [
    "## Base Case: Random Forest Classification without any modifications."
   ]
  },
  {
   "cell_type": "code",
   "execution_count": 20,
   "metadata": {},
   "outputs": [],
   "source": [
    "rfc=RandomForestClassifier(n_jobs=16, random_state=42)\n",
    "rfc.fit(X_train,y_train)\n",
    "prediction1=rfc.predict(X_test)\n"
   ]
  },
  {
   "cell_type": "code",
   "execution_count": 21,
   "metadata": {},
   "outputs": [],
   "source": [
    "threshold = threshold_at_recall(rfc, X_train, y_train, 0.9)"
   ]
  },
  {
   "cell_type": "code",
   "execution_count": 22,
   "metadata": {},
   "outputs": [
    {
     "data": {
      "text/plain": [
       "0.63"
      ]
     },
     "execution_count": 22,
     "metadata": {},
     "output_type": "execute_result"
    }
   ],
   "source": [
    "threshold"
   ]
  },
  {
   "cell_type": "code",
   "execution_count": 97,
   "metadata": {},
   "outputs": [
    {
     "name": "stdout",
     "output_type": "stream",
     "text": [
      "[[84980     4]\n",
      " [   41    93]]\n",
      "Precision: 0.9587628865979382\n",
      "Recall: 0.6940298507462687\n",
      "f1 score: 0.8051948051948052\n",
      "F2 score: 0.7345971563981042\n"
     ]
    },
    {
     "data": {
      "text/plain": [
       "array([8.49800000e+04, 4.00000000e+00, 4.10000000e+01, 9.30000000e+01,\n",
       "       6.94029851e-01, 9.58762887e-01, 8.05194805e-01, 7.34597156e-01])"
      ]
     },
     "execution_count": 97,
     "metadata": {},
     "output_type": "execute_result"
    }
   ],
   "source": [
    "classresults(rfc.predict_proba(X_test)[:,1]>=threshold, y_test)"
   ]
  },
  {
   "cell_type": "code",
   "execution_count": 112,
   "metadata": {},
   "outputs": [
    {
     "name": "stdout",
     "output_type": "stream",
     "text": [
      "\u001b[1mHere are the results:\n",
      "\u001b[0mPrecision: 0.9509803921568627\n",
      "Recall: 0.7238805970149254\n",
      "f1 score: 0.8220338983050848\n",
      "F2 score: 0.7601880877742948\n",
      "Confusion Matrix:\n",
      "[[84979     5]\n",
      " [   37    97]]\n"
     ]
    }
   ],
   "source": [
    "ts1=classresults(prediction1,y_test)"
   ]
  },
  {
   "cell_type": "code",
   "execution_count": 25,
   "metadata": {},
   "outputs": [],
   "source": [
    "croScore=[[]]"
   ]
  },
  {
   "cell_type": "code",
   "execution_count": 26,
   "metadata": {},
   "outputs": [
    {
     "name": "stdout",
     "output_type": "stream",
     "text": [
      "[0.73846154 0.77507599 0.85843373 0.83591331 0.85843373 0.82568807\n",
      " 0.8        0.76452599 0.78947368 0.87087087 0.75384615 0.82066869\n",
      " 0.81570997 0.80745342 0.85585586 0.82066869 0.75384615 0.80792683\n",
      " 0.85365854 0.83333333]\n",
      "Mean f2 score: 0.812\n",
      "Elapsed time: 1660987004.1670237 1660986787.352903\n",
      "Elapsed time during the whole program in seconds: 216.81412076950073\n"
     ]
    }
   ],
   "source": [
    "croScore.append(croscor(rfc, X_train, y_train, ftwo_scorer))"
   ]
  },
  {
   "cell_type": "code",
   "execution_count": 27,
   "metadata": {},
   "outputs": [],
   "source": [
    "croScore.remove([])"
   ]
  },
  {
   "cell_type": "markdown",
   "metadata": {},
   "source": [
    "# Applying Weights to model parameters"
   ]
  },
  {
   "cell_type": "code",
   "execution_count": 28,
   "metadata": {},
   "outputs": [],
   "source": [
    "rfcw=RandomForestClassifier(n_jobs=16, random_state=42, class_weight = 'balanced_subsample')\n",
    "rfcw.fit(X_train,y_train)\n",
    "prediction2=rfcw.predict(X_test)"
   ]
  },
  {
   "cell_type": "code",
   "execution_count": 29,
   "metadata": {},
   "outputs": [
    {
     "data": {
      "text/plain": [
       "85034"
      ]
     },
     "execution_count": 29,
     "metadata": {},
     "output_type": "execute_result"
    }
   ],
   "source": [
    "sum((rfcw.predict_proba(X_test)[:,1]>.95)==prediction2)"
   ]
  },
  {
   "cell_type": "code",
   "execution_count": 113,
   "metadata": {
    "scrolled": true
   },
   "outputs": [
    {
     "name": "stdout",
     "output_type": "stream",
     "text": [
      "\u001b[1mHere are the results:\n",
      "\u001b[0mPrecision: 0.9514563106796117\n",
      "Recall: 0.7313432835820896\n",
      "f1 score: 0.8270042194092827\n",
      "F2 score: 0.7668231611893584\n",
      "Confusion Matrix:\n",
      "[[84979     5]\n",
      " [   36    98]]\n"
     ]
    }
   ],
   "source": [
    "ts2=classresults(prediction2,y_test)"
   ]
  },
  {
   "cell_type": "code",
   "execution_count": 31,
   "metadata": {},
   "outputs": [
    {
     "name": "stdout",
     "output_type": "stream",
     "text": [
      "[0.74303406 0.75384615 0.82066869 0.77044025 0.81288344 0.78461538\n",
      " 0.75851393 0.72755418 0.79192547 0.81039755 0.68965517 0.77160494\n",
      " 0.79268293 0.8125     0.84337349 0.81288344 0.70532915 0.75384615\n",
      " 0.85626911 0.79510703]\n",
      "Mean f2 score: 0.780\n",
      "Elapsed time: 1660987142.1482487 1660987014.7280521\n",
      "Elapsed time during the whole program in seconds: 127.42019653320312\n"
     ]
    }
   ],
   "source": [
    "croScore.append(croscor(rfcw, X_train,y_train, ftwo_scorer))"
   ]
  },
  {
   "cell_type": "markdown",
   "metadata": {},
   "source": [
    "# Undersampling\n",
    "\n",
    "Here we will use the __Edited Nearest Neighbors__ Sampler to help with the class imbalance in the data set. "
   ]
  },
  {
   "cell_type": "code",
   "execution_count": 33,
   "metadata": {},
   "outputs": [
    {
     "data": {
      "text/plain": [
       "0    198269\n",
       "1       339\n",
       "Name: Class, dtype: int64"
      ]
     },
     "execution_count": 33,
     "metadata": {},
     "output_type": "execute_result"
    }
   ],
   "source": [
    "y_train.value_counts()"
   ]
  },
  {
   "cell_type": "code",
   "execution_count": 34,
   "metadata": {},
   "outputs": [
    {
     "name": "stdout",
     "output_type": "stream",
     "text": [
      "Elapsed time: 1660988011.0127773 1660987142.1972046\n",
      "Elapsed time during the whole program in seconds: 868.8155727386475\n"
     ]
    }
   ],
   "source": [
    "t1_start =time.time()\n",
    "\n",
    "enn = EditedNearestNeighbours(n_jobs =16)\n",
    "X_enn, y_enn = enn.fit_resample(X_train, y_train)\n",
    "\n",
    "t1_stop = time.time()\n",
    "   \n",
    "print(\"Elapsed time:\", t1_stop, t1_start)\n",
    "   \n",
    "print(\"Elapsed time during the whole program in seconds:\",\n",
    "                                            t1_stop-t1_start) \n",
    "\n"
   ]
  },
  {
   "cell_type": "code",
   "execution_count": 35,
   "metadata": {},
   "outputs": [
    {
     "name": "stdout",
     "output_type": "stream",
     "text": [
      "[(0, 198002), (1, 339)]\n"
     ]
    }
   ],
   "source": [
    "print(sorted(Counter(y_enn).items()))"
   ]
  },
  {
   "cell_type": "markdown",
   "metadata": {},
   "source": [
    "Note here that actually the imbalance was not helped very much, so we will probably not see any major changes in the results. I suspect this maybe because the data set shows no clear boundary between our fraud and non-fraud cases."
   ]
  },
  {
   "cell_type": "code",
   "execution_count": 36,
   "metadata": {},
   "outputs": [],
   "source": [
    "rfcenn=RandomForestClassifier(n_jobs=16, random_state=101)\n",
    "rfcenn.fit(X_enn,y_enn)\n",
    "prediction3=rfcenn.predict(X_test)"
   ]
  },
  {
   "cell_type": "code",
   "execution_count": 114,
   "metadata": {
    "scrolled": true
   },
   "outputs": [
    {
     "name": "stdout",
     "output_type": "stream",
     "text": [
      "\u001b[1mHere are the results:\n",
      "\u001b[0mPrecision: 0.941747572815534\n",
      "Recall: 0.7238805970149254\n",
      "f1 score: 0.8185654008438819\n",
      "F2 score: 0.7589984350547729\n",
      "Confusion Matrix:\n",
      "[[84978     6]\n",
      " [   37    97]]\n"
     ]
    }
   ],
   "source": [
    "ts3=classresults(prediction3,y_test)"
   ]
  },
  {
   "cell_type": "code",
   "execution_count": 38,
   "metadata": {},
   "outputs": [
    {
     "name": "stdout",
     "output_type": "stream",
     "text": [
      "[0.85106383 0.79439252 0.8030303  0.81818182 0.8        0.81570997\n",
      " 0.75851393 0.81039755 0.80792683 0.83586626 0.80792683 0.84848485\n",
      " 0.83586626 0.77272727 0.77639752 0.83081571 0.83076923 0.7957958\n",
      " 0.82066869 0.77399381]\n",
      "Mean f2 score: 0.809\n",
      "Elapsed time: 1660988255.0533059 1660988026.7608068\n",
      "Elapsed time during the whole program in seconds: 228.29249906539917\n"
     ]
    }
   ],
   "source": [
    "croScore.append(croscor(rfcenn, X_enn, y_enn, ftwo_scorer))"
   ]
  },
  {
   "cell_type": "markdown",
   "metadata": {},
   "source": [
    "We can see that the performance is almost identical to our base case. \n",
    "\n"
   ]
  },
  {
   "cell_type": "markdown",
   "metadata": {},
   "source": [
    "Let's try a slightly different algorith, this time using the Condensed Nearest Neighbor method for undersampling. "
   ]
  },
  {
   "cell_type": "code",
   "execution_count": 39,
   "metadata": {},
   "outputs": [
    {
     "name": "stdout",
     "output_type": "stream",
     "text": [
      "Elapsed time: 1660998626.4011705 1660988255.07055\n",
      "Elapsed time during the whole program in seconds: 10371.330620527267\n",
      "[(0, 1702), (1, 339)]\n"
     ]
    }
   ],
   "source": [
    "t2_start =time.time()\n",
    "cnn=CondensedNearestNeighbour(random_state=42, n_jobs=-1)\n",
    "X_cnn, y_cnn = cnn.fit_resample(X_train, y_train)\n",
    "t2_stop = time.time()\n",
    "   \n",
    "print(\"Elapsed time:\", t2_stop, t2_start)\n",
    "   \n",
    "print(\"Elapsed time during the whole program in seconds:\",\n",
    "                                            t2_stop-t2_start) \n",
    "\n",
    "print(sorted(Counter(y_cnn).items()))\n",
    "\n"
   ]
  },
  {
   "cell_type": "code",
   "execution_count": 40,
   "metadata": {},
   "outputs": [],
   "source": [
    "rfcnn=RandomForestClassifier(n_jobs=16, random_state=101)\n",
    "rfcnn.fit(X_cnn,y_cnn)\n",
    "prediction4=rfcnn.predict(X_test)"
   ]
  },
  {
   "cell_type": "code",
   "execution_count": 115,
   "metadata": {},
   "outputs": [
    {
     "name": "stdout",
     "output_type": "stream",
     "text": [
      "\u001b[1mHere are the results:\n",
      "\u001b[0mPrecision: 0.5729166666666666\n",
      "Recall: 0.8208955223880597\n",
      "f1 score: 0.6748466257668712\n",
      "F2 score: 0.7554945054945055\n",
      "Confusion Matrix:\n",
      "[[84902    82]\n",
      " [   24   110]]\n"
     ]
    }
   ],
   "source": [
    "ts4=classresults(prediction4,y_test)"
   ]
  },
  {
   "cell_type": "code",
   "execution_count": 42,
   "metadata": {},
   "outputs": [
    {
     "name": "stdout",
     "output_type": "stream",
     "text": [
      "[0.9439528  0.88414634 0.79510703 0.92814371 0.82568807 0.83841463\n",
      " 0.89393939 0.96153846 0.80792683 0.87613293 0.88588589 0.82043344\n",
      " 0.88855422 0.85106383 0.9375     0.86102719 0.83586626 0.87087087\n",
      " 0.92814371 0.87613293]\n",
      "Mean f2 score: 0.876\n",
      "Elapsed time: 1660998629.3103702 1660998626.8253646\n",
      "Elapsed time during the whole program in seconds: 2.4850056171417236\n"
     ]
    }
   ],
   "source": [
    "croScore.append(croscor(rfcnn,X_cnn, y_cnn, ftwo_scorer))"
   ]
  },
  {
   "cell_type": "markdown",
   "metadata": {},
   "source": [
    "# Random Under Sampling\n",
    "\n",
    "We will not attempt to force a stronger undersampling by using a random undersampler and setting it so that our sample is perfectly balanced instead. "
   ]
  },
  {
   "cell_type": "code",
   "execution_count": 43,
   "metadata": {},
   "outputs": [
    {
     "name": "stdout",
     "output_type": "stream",
     "text": [
      "[(0, 339), (1, 339)]\n"
     ]
    }
   ],
   "source": [
    "rus = RandomUnderSampler()\n",
    "X_rus , y_rus = rus.fit_resample(X_train,y_train)\n",
    "print(sorted(Counter(y_rus).items()))\n"
   ]
  },
  {
   "cell_type": "code",
   "execution_count": 44,
   "metadata": {},
   "outputs": [],
   "source": [
    "rfcrus=RandomForestClassifier(n_jobs=16, random_state=101)\n",
    "rfcrus.fit(X_rus,y_rus)\n",
    "prediction5=rfcrus.predict(X_test)"
   ]
  },
  {
   "cell_type": "code",
   "execution_count": 116,
   "metadata": {},
   "outputs": [
    {
     "name": "stdout",
     "output_type": "stream",
     "text": [
      "\u001b[1mHere are the results:\n",
      "\u001b[0mPrecision: 0.04490566037735849\n",
      "Recall: 0.8880597014925373\n",
      "f1 score: 0.08548850574712644\n",
      "F2 score: 0.18675455116133083\n",
      "Confusion Matrix:\n",
      "[[82453  2531]\n",
      " [   15   119]]\n"
     ]
    }
   ],
   "source": [
    "ts5=classresults(prediction5,y_test)"
   ]
  },
  {
   "cell_type": "code",
   "execution_count": 46,
   "metadata": {},
   "outputs": [
    {
     "name": "stdout",
     "output_type": "stream",
     "text": [
      "[0.89820359 0.85106383 0.9375     0.93655589 0.94029851 0.92814371\n",
      " 0.91317365 0.92920354 0.87692308 0.90361446 0.9347181  0.95238095\n",
      " 0.92261905 0.85889571 0.91591592 0.92261905 0.89123867 0.91317365\n",
      " 0.96096096 0.9375    ]\n",
      "Mean f2 score: 0.916\n",
      "Elapsed time: 1660998630.1063635 1660998629.727367\n",
      "Elapsed time during the whole program in seconds: 0.3789966106414795\n"
     ]
    }
   ],
   "source": [
    "croScore.append(croscor(rfcrus, X_rus, y_rus, ftwo_scorer))"
   ]
  },
  {
   "cell_type": "markdown",
   "metadata": {},
   "source": [
    "# Oversampling"
   ]
  },
  {
   "cell_type": "code",
   "execution_count": 47,
   "metadata": {},
   "outputs": [],
   "source": [
    "sm=SMOTE(random_state=42, n_jobs=-1)\n"
   ]
  },
  {
   "cell_type": "code",
   "execution_count": 48,
   "metadata": {},
   "outputs": [],
   "source": [
    "X_smote, y_smote = sm.fit_resample(X_train, y_train)"
   ]
  },
  {
   "cell_type": "code",
   "execution_count": 49,
   "metadata": {},
   "outputs": [
    {
     "name": "stdout",
     "output_type": "stream",
     "text": [
      "[(0, 198269), (1, 198269)]\n"
     ]
    }
   ],
   "source": [
    "print(sorted(Counter(y_smote).items()))"
   ]
  },
  {
   "cell_type": "code",
   "execution_count": 50,
   "metadata": {},
   "outputs": [],
   "source": [
    "rfcsmote=RandomForestClassifier(n_jobs=16, random_state=101)\n",
    "rfcsmote.fit(X_smote,y_smote)\n",
    "prediction6=rfcsmote.predict(X_test)\n"
   ]
  },
  {
   "cell_type": "code",
   "execution_count": 117,
   "metadata": {},
   "outputs": [
    {
     "name": "stdout",
     "output_type": "stream",
     "text": [
      "\u001b[1mHere are the results:\n",
      "\u001b[0mPrecision: 0.8983050847457628\n",
      "Recall: 0.7910447761194029\n",
      "f1 score: 0.8412698412698412\n",
      "F2 score: 0.8103975535168196\n",
      "Confusion Matrix:\n",
      "[[84972    12]\n",
      " [   28   106]]\n"
     ]
    }
   ],
   "source": [
    "ts6=classresults(prediction6,y_test)"
   ]
  },
  {
   "cell_type": "code",
   "execution_count": 52,
   "metadata": {},
   "outputs": [
    {
     "name": "stdout",
     "output_type": "stream",
     "text": [
      "[0.9999647  0.99993948 0.99993948 0.99994452 0.9999647  0.99993948\n",
      " 0.99995461 0.99994452 0.99995965 0.99994452 0.99994452 0.99992939\n",
      " 0.99997478 0.99995965 0.99995461 0.99993948 0.99993444 0.9999647\n",
      " 0.99994956 0.9999647 ]\n",
      "Mean f2 score: 1.000\n",
      "Elapsed time: 1660999109.084498 1660998657.9708\n",
      "Elapsed time during the whole program in seconds: 451.11369800567627\n"
     ]
    }
   ],
   "source": [
    "croScore.append(croscor(rfcsmote, X_smote, y_smote, ftwo_scorer))"
   ]
  },
  {
   "cell_type": "markdown",
   "metadata": {},
   "source": [
    "# Combined Over and Under Sampling\n"
   ]
  },
  {
   "cell_type": "code",
   "execution_count": 53,
   "metadata": {},
   "outputs": [
    {
     "name": "stdout",
     "output_type": "stream",
     "text": [
      "Elapsed time: 1661002370.5088992 1660999109.1034968\n",
      "Elapsed time during the whole program in seconds: 3261.4054024219513\n"
     ]
    }
   ],
   "source": [
    "t3_start=time.time()\n",
    "\n",
    "                                            \n",
    "sme=SMOTEENN(n_jobs=16)\n",
    "X_sme, y_sme = sme.fit_resample(X_train,y_train)\n",
    "t3_stop= time.time()\n",
    "   \n",
    "print(\"Elapsed time:\", t3_stop, t3_start)\n",
    "   \n",
    "print(\"Elapsed time during the whole program in seconds:\",t3_stop-t3_start) \n"
   ]
  },
  {
   "cell_type": "code",
   "execution_count": 54,
   "metadata": {},
   "outputs": [
    {
     "name": "stdout",
     "output_type": "stream",
     "text": [
      "[(0, 186689), (1, 193747)]\n"
     ]
    }
   ],
   "source": [
    "print(sorted(Counter(y_sme).items()))"
   ]
  },
  {
   "cell_type": "code",
   "execution_count": 55,
   "metadata": {},
   "outputs": [],
   "source": [
    "rfcsme=RandomForestClassifier(n_jobs=16, random_state=101)\n",
    "rfcsme.fit(X_sme,y_sme)\n",
    "prediction7=rfcsme.predict(X_test)"
   ]
  },
  {
   "cell_type": "code",
   "execution_count": 118,
   "metadata": {},
   "outputs": [
    {
     "name": "stdout",
     "output_type": "stream",
     "text": [
      "\u001b[1mHere are the results:\n",
      "\u001b[0mPrecision: 0.8677685950413223\n",
      "Recall: 0.7835820895522388\n",
      "f1 score: 0.8235294117647058\n",
      "F2 score: 0.7990867579908678\n",
      "Confusion Matrix:\n",
      "[[84968    16]\n",
      " [   29   105]]\n"
     ]
    }
   ],
   "source": [
    "ts7=classresults(prediction7,y_test)"
   ]
  },
  {
   "cell_type": "code",
   "execution_count": 57,
   "metadata": {},
   "outputs": [
    {
     "name": "stdout",
     "output_type": "stream",
     "text": [
      "[0.99985033 0.9999329  0.99991742 0.99990194 0.99984    0.99994323\n",
      " 0.99993807 0.99995871 0.99982967 0.99990194 0.99992258 0.99999484\n",
      " 0.99986581 0.99992774 0.99992258 0.99995871 0.99987613 0.99996387\n",
      " 0.99981419 0.99984516]\n",
      "Mean f2 score: 1.000\n",
      "Elapsed time: 1661002812.359789 1661002397.3496704\n",
      "Elapsed time during the whole program in seconds: 415.01011848449707\n"
     ]
    }
   ],
   "source": [
    "croScore.append(croscor(rfcsme, X_sme,y_sme, ftwo_scorer))"
   ]
  },
  {
   "cell_type": "markdown",
   "metadata": {},
   "source": [
    "## Comparing the different methods."
   ]
  },
  {
   "cell_type": "code",
   "execution_count": 120,
   "metadata": {},
   "outputs": [],
   "source": [
    "dfcm=pd.DataFrame([ts1, ts2, ts3, ts4, ts5, ts6, ts7])\n",
    "dfcm=dfcm.assign(croScoref2 = croScore)\n",
    "dfcm.columns = ['True Negative', 'False positive', 'False Negative','True Positive', 'Recall', 'Precision', 'F1 Score', 'F2 Score', 'Mean F2 CrosVal']\n",
    "dfcm.rename(index = {0: 'No Modification', 1: 'Weighted', 2: 'Undersample ENN', 3: 'Undersample CNN', 4:'Random Undersample', 5:'SMOTE Over', 6:' Combined SMOTEEN'}, inplace= True)"
   ]
  },
  {
   "cell_type": "code",
   "execution_count": 121,
   "metadata": {},
   "outputs": [
    {
     "data": {
      "text/html": [
       "<div>\n",
       "<style scoped>\n",
       "    .dataframe tbody tr th:only-of-type {\n",
       "        vertical-align: middle;\n",
       "    }\n",
       "\n",
       "    .dataframe tbody tr th {\n",
       "        vertical-align: top;\n",
       "    }\n",
       "\n",
       "    .dataframe thead th {\n",
       "        text-align: right;\n",
       "    }\n",
       "</style>\n",
       "<table border=\"1\" class=\"dataframe\">\n",
       "  <thead>\n",
       "    <tr style=\"text-align: right;\">\n",
       "      <th></th>\n",
       "      <th>True Negative</th>\n",
       "      <th>False positive</th>\n",
       "      <th>False Negative</th>\n",
       "      <th>True Positive</th>\n",
       "      <th>Recall</th>\n",
       "      <th>Precision</th>\n",
       "      <th>F1 Score</th>\n",
       "      <th>F2 Score</th>\n",
       "      <th>Mean F2 CrosVal</th>\n",
       "    </tr>\n",
       "  </thead>\n",
       "  <tbody>\n",
       "    <tr>\n",
       "      <th>No Modification</th>\n",
       "      <td>84979.0</td>\n",
       "      <td>5.0</td>\n",
       "      <td>37.0</td>\n",
       "      <td>97.0</td>\n",
       "      <td>0.723881</td>\n",
       "      <td>0.950980</td>\n",
       "      <td>0.822034</td>\n",
       "      <td>0.760188</td>\n",
       "      <td>0.811992</td>\n",
       "    </tr>\n",
       "    <tr>\n",
       "      <th>Weighted</th>\n",
       "      <td>84979.0</td>\n",
       "      <td>5.0</td>\n",
       "      <td>36.0</td>\n",
       "      <td>98.0</td>\n",
       "      <td>0.731343</td>\n",
       "      <td>0.951456</td>\n",
       "      <td>0.827004</td>\n",
       "      <td>0.766823</td>\n",
       "      <td>0.780357</td>\n",
       "    </tr>\n",
       "    <tr>\n",
       "      <th>Undersample ENN</th>\n",
       "      <td>84978.0</td>\n",
       "      <td>6.0</td>\n",
       "      <td>37.0</td>\n",
       "      <td>97.0</td>\n",
       "      <td>0.723881</td>\n",
       "      <td>0.941748</td>\n",
       "      <td>0.818565</td>\n",
       "      <td>0.758998</td>\n",
       "      <td>0.809426</td>\n",
       "    </tr>\n",
       "    <tr>\n",
       "      <th>Undersample CNN</th>\n",
       "      <td>84902.0</td>\n",
       "      <td>82.0</td>\n",
       "      <td>24.0</td>\n",
       "      <td>110.0</td>\n",
       "      <td>0.820896</td>\n",
       "      <td>0.572917</td>\n",
       "      <td>0.674847</td>\n",
       "      <td>0.755495</td>\n",
       "      <td>0.875523</td>\n",
       "    </tr>\n",
       "    <tr>\n",
       "      <th>Random Undersample</th>\n",
       "      <td>82453.0</td>\n",
       "      <td>2531.0</td>\n",
       "      <td>15.0</td>\n",
       "      <td>119.0</td>\n",
       "      <td>0.888060</td>\n",
       "      <td>0.044906</td>\n",
       "      <td>0.085489</td>\n",
       "      <td>0.186755</td>\n",
       "      <td>0.916235</td>\n",
       "    </tr>\n",
       "    <tr>\n",
       "      <th>SMOTE Over</th>\n",
       "      <td>84972.0</td>\n",
       "      <td>12.0</td>\n",
       "      <td>28.0</td>\n",
       "      <td>106.0</td>\n",
       "      <td>0.791045</td>\n",
       "      <td>0.898305</td>\n",
       "      <td>0.841270</td>\n",
       "      <td>0.810398</td>\n",
       "      <td>0.999951</td>\n",
       "    </tr>\n",
       "    <tr>\n",
       "      <th>Combined SMOTEEN</th>\n",
       "      <td>84968.0</td>\n",
       "      <td>16.0</td>\n",
       "      <td>29.0</td>\n",
       "      <td>105.0</td>\n",
       "      <td>0.783582</td>\n",
       "      <td>0.867769</td>\n",
       "      <td>0.823529</td>\n",
       "      <td>0.799087</td>\n",
       "      <td>0.999905</td>\n",
       "    </tr>\n",
       "  </tbody>\n",
       "</table>\n",
       "</div>"
      ],
      "text/plain": [
       "                    True Negative  False positive  False Negative  \\\n",
       "No Modification           84979.0             5.0            37.0   \n",
       "Weighted                  84979.0             5.0            36.0   \n",
       "Undersample ENN           84978.0             6.0            37.0   \n",
       "Undersample CNN           84902.0            82.0            24.0   \n",
       "Random Undersample        82453.0          2531.0            15.0   \n",
       "SMOTE Over                84972.0            12.0            28.0   \n",
       " Combined SMOTEEN         84968.0            16.0            29.0   \n",
       "\n",
       "                    True Positive    Recall  Precision  F1 Score  F2 Score  \\\n",
       "No Modification              97.0  0.723881   0.950980  0.822034  0.760188   \n",
       "Weighted                     98.0  0.731343   0.951456  0.827004  0.766823   \n",
       "Undersample ENN              97.0  0.723881   0.941748  0.818565  0.758998   \n",
       "Undersample CNN             110.0  0.820896   0.572917  0.674847  0.755495   \n",
       "Random Undersample          119.0  0.888060   0.044906  0.085489  0.186755   \n",
       "SMOTE Over                  106.0  0.791045   0.898305  0.841270  0.810398   \n",
       " Combined SMOTEEN           105.0  0.783582   0.867769  0.823529  0.799087   \n",
       "\n",
       "                    Mean F2 CrosVal  \n",
       "No Modification            0.811992  \n",
       "Weighted                   0.780357  \n",
       "Undersample ENN            0.809426  \n",
       "Undersample CNN            0.875523  \n",
       "Random Undersample         0.916235  \n",
       "SMOTE Over                 0.999951  \n",
       " Combined SMOTEEN          0.999905  "
      ]
     },
     "execution_count": 121,
     "metadata": {},
     "output_type": "execute_result"
    }
   ],
   "source": [
    "dfcm"
   ]
  },
  {
   "cell_type": "markdown",
   "metadata": {},
   "source": [
    "### Discussion of primary metric\n",
    "\n",
    "Commonly the F1 score is favored because of it's balanced weight of the recall and precision, from a mathematical perspective that would be favorable, however from a business perspective that doesn't make sense to value the two the same. For credit card fraud detection the recall is more important, since we want to make sure we catch as many cases of fraud as possible. However, because we don't want to waste time and resources verifying every transaction, it is also undesireable to have too small of a precision either. By using the F2 metric, we are placing more importance on the recall since that is more important from a business perspective. \n",
    "\n",
    "For the F2 score, the best performing methods are the SMOTE oversampling, and the Combined SMOTE and ENN. The scores are very close and the raw performance is almost identical, so the difference may come down to random sampling. In this data set, SMOTE has the better recall and precision than the SMOTEEN case, where as many of the other methods we see trade offs, with no sampling applied having higher precision, but lower recall, and undersampling methods have higher recall but lower precision. The exception to this is the ENN method, but that is likely because the amount of undersampling done was very minimal, the data set shrunk by less than 1%, which means the data set behaves more or less identical to the none-resampled models. "
   ]
  },
  {
   "cell_type": "markdown",
   "metadata": {},
   "source": [
    "#### Using different testing splits to compare SMOTE and SMOTEEN performance\n",
    "\n",
    "As mentioned previously we believe the two sampling methods produce comparable results. In the following code we will take two new splits of the training and testing set, and we will see that in one example SMOTE performs better, while in the other SMOTEEN performs better similar to the original split."
   ]
  },
  {
   "cell_type": "code",
   "execution_count": 80,
   "metadata": {},
   "outputs": [],
   "source": [
    "X_train2, X_test2, y_train2, y_test2 = train_test_split(X,y, test_size =0.3, random_state=101)"
   ]
  },
  {
   "cell_type": "code",
   "execution_count": 87,
   "metadata": {},
   "outputs": [
    {
     "name": "stdout",
     "output_type": "stream",
     "text": [
      "              precision    recall  f1-score   support\n",
      "\n",
      "           0       1.00      1.00      1.00     84980\n",
      "           1       0.90      0.84      0.87       138\n",
      "\n",
      "    accuracy                           1.00     85118\n",
      "   macro avg       0.95      0.92      0.93     85118\n",
      "weighted avg       1.00      1.00      1.00     85118\n",
      "\n",
      "[[84967    13]\n",
      " [   22   116]]\n",
      "Accuracy Score: 0.9995888061279635\n",
      "Area Under Curve: 0.9202133664869142\n",
      "Recall score: 0.8405797101449275\n",
      "f1 score: 0.8689138576779025\n",
      "Matthews Correlation Coefficient: 0.8692036675705964\n",
      "F2 score: 0.8516886930983846\n"
     ]
    },
    {
     "data": {
      "text/plain": [
       "array([8.49670000e+04, 1.30000000e+01, 2.20000000e+01, 1.16000000e+02,\n",
       "       8.40579710e-01, 8.99224806e-01, 8.68913858e-01, 8.51688693e-01])"
      ]
     },
     "execution_count": 87,
     "metadata": {},
     "output_type": "execute_result"
    }
   ],
   "source": [
    "sm2=SMOTE(random_state=42, n_jobs=-1)\n",
    "X_smote2, y_smote2 = sm2.fit_resample(X_train2, y_train2)\n",
    "rfcsmote2=RandomForestClassifier(n_jobs=16, random_state=101)\n",
    "rfcsmote2.fit(X_smote2,y_smote2)\n",
    "prediction8=rfcsmote2.predict(X_test2)\n",
    "classresults(prediction8,y_test2)\n"
   ]
  },
  {
   "cell_type": "code",
   "execution_count": 88,
   "metadata": {},
   "outputs": [
    {
     "name": "stdout",
     "output_type": "stream",
     "text": [
      "              precision    recall  f1-score   support\n",
      "\n",
      "           0       1.00      1.00      1.00     84980\n",
      "           1       0.92      0.95      0.94       138\n",
      "\n",
      "    accuracy                           1.00     85118\n",
      "   macro avg       0.96      0.97      0.97     85118\n",
      "weighted avg       1.00      1.00      1.00     85118\n",
      "\n",
      "[[84969    11]\n",
      " [    7   131]]\n",
      "Accuracy Score: 0.9997885288658098\n",
      "Area Under Curve: 0.9745729600485706\n",
      "Recall score: 0.9492753623188406\n",
      "f1 score: 0.9357142857142856\n",
      "Matthews Correlation Coefficient: 0.935704197322069\n",
      "F2 score: 0.9438040345821327\n"
     ]
    },
    {
     "data": {
      "text/plain": [
       "array([8.49690000e+04, 1.10000000e+01, 7.00000000e+00, 1.31000000e+02,\n",
       "       9.49275362e-01, 9.22535211e-01, 9.35714286e-01, 9.43804035e-01])"
      ]
     },
     "execution_count": 88,
     "metadata": {},
     "output_type": "execute_result"
    }
   ],
   "source": [
    "sme2=SMOTEENN(n_jobs=16)\n",
    "X_sme2, y_sme2 = sme2.fit_resample(X_train2,y_train2)\n",
    "rfcsme2=RandomForestClassifier(n_jobs=16, random_state=101)\n",
    "rfcsme2.fit(X_sme2,y_sme2)\n",
    "prediction9=rfcsme2.predict(X_test2)\n",
    "classresults(prediction9,y_test2)"
   ]
  },
  {
   "cell_type": "code",
   "execution_count": 91,
   "metadata": {},
   "outputs": [
    {
     "name": "stdout",
     "output_type": "stream",
     "text": [
      "              precision    recall  f1-score   support\n",
      "\n",
      "           0       1.00      1.00      1.00     84980\n",
      "           1       0.89      0.86      0.87       138\n",
      "\n",
      "    accuracy                           1.00     85118\n",
      "   macro avg       0.95      0.93      0.94     85118\n",
      "weighted avg       1.00      1.00      1.00     85118\n",
      "\n",
      "[[84966    14]\n",
      " [   20   118]]\n",
      "Accuracy Score: 0.9996005545243074\n",
      "Area Under Curve: 0.9274538595611586\n",
      "Recall score: 0.855072463768116\n",
      "f1 score: 0.8740740740740741\n",
      "Matthews Correlation Coefficient: 0.8740906705897525\n",
      "F2 score: 0.8625730994152048\n"
     ]
    },
    {
     "data": {
      "text/plain": [
       "array([8.49660000e+04, 1.40000000e+01, 2.00000000e+01, 1.18000000e+02,\n",
       "       8.55072464e-01, 8.93939394e-01, 8.74074074e-01, 8.62573099e-01])"
      ]
     },
     "execution_count": 91,
     "metadata": {},
     "output_type": "execute_result"
    }
   ],
   "source": [
    "prediction9=rfcsme2.predict(X_test2)\n",
    "classresults(prediction9,y_test2)"
   ]
  },
  {
   "cell_type": "markdown",
   "metadata": {},
   "source": [
    "In this first case we can see that SMOTEEN had a better F2 score of .8626 compared to the SMOTE F2 score of .8517."
   ]
  },
  {
   "cell_type": "code",
   "execution_count": 89,
   "metadata": {},
   "outputs": [],
   "source": [
    "X_train3, X_test3, y_train3, y_test3 = train_test_split(X,y, test_size =0.3, random_state=3515)"
   ]
  },
  {
   "cell_type": "code",
   "execution_count": 90,
   "metadata": {},
   "outputs": [
    {
     "name": "stdout",
     "output_type": "stream",
     "text": [
      "              precision    recall  f1-score   support\n",
      "\n",
      "           0       1.00      1.00      1.00     84987\n",
      "           1       0.84      0.79      0.82       131\n",
      "\n",
      "    accuracy                           1.00     85118\n",
      "   macro avg       0.92      0.90      0.91     85118\n",
      "weighted avg       1.00      1.00      1.00     85118\n",
      "\n",
      "[[84967    20]\n",
      " [   27   104]]\n",
      "Accuracy Score: 0.9994478253718367\n",
      "Area Under Curve: 0.8968288998308408\n",
      "Recall score: 0.7938931297709924\n",
      "f1 score: 0.8156862745098039\n",
      "Matthews Correlation Coefficient: 0.8157183069375495\n",
      "F2 score: 0.8024691358024691\n"
     ]
    },
    {
     "data": {
      "text/plain": [
       "array([8.49670000e+04, 2.00000000e+01, 2.70000000e+01, 1.04000000e+02,\n",
       "       7.93893130e-01, 8.38709677e-01, 8.15686275e-01, 8.02469136e-01])"
      ]
     },
     "execution_count": 90,
     "metadata": {},
     "output_type": "execute_result"
    }
   ],
   "source": [
    "sm3=SMOTE(random_state=42, n_jobs=-1)\n",
    "X_smote3, y_smote3 = sm3.fit_resample(X_train3, y_train3)\n",
    "rfcsmote3=RandomForestClassifier(n_jobs=16, random_state=101)\n",
    "rfcsmote3.fit(X_smote3,y_smote3)\n",
    "prediction10=rfcsmote3.predict(X_test3)\n",
    "classresults(prediction10,y_test3)\n"
   ]
  },
  {
   "cell_type": "code",
   "execution_count": 92,
   "metadata": {},
   "outputs": [
    {
     "name": "stdout",
     "output_type": "stream",
     "text": [
      "              precision    recall  f1-score   support\n",
      "\n",
      "           0       1.00      1.00      1.00     84987\n",
      "           1       0.79      0.79      0.79       131\n",
      "\n",
      "    accuracy                           1.00     85118\n",
      "   macro avg       0.90      0.90      0.90     85118\n",
      "weighted avg       1.00      1.00      1.00     85118\n",
      "\n",
      "[[84960    27]\n",
      " [   27   104]]\n",
      "Accuracy Score: 0.9993655865974295\n",
      "Area Under Curve: 0.8967877170617113\n",
      "Recall score: 0.7938931297709924\n",
      "f1 score: 0.7938931297709924\n",
      "Matthews Correlation Coefficient: 0.7935754341234227\n",
      "F2 score: 0.7938931297709924\n"
     ]
    },
    {
     "data": {
      "text/plain": [
       "array([8.4960000e+04, 2.7000000e+01, 2.7000000e+01, 1.0400000e+02,\n",
       "       7.9389313e-01, 7.9389313e-01, 7.9389313e-01, 7.9389313e-01])"
      ]
     },
     "execution_count": 92,
     "metadata": {},
     "output_type": "execute_result"
    }
   ],
   "source": [
    "sme3=SMOTEENN(n_jobs=16)\n",
    "X_sme3, y_sme3 = sme3.fit_resample(X_train3,y_train3)\n",
    "rfcsme3=RandomForestClassifier(n_jobs=16, random_state=101)\n",
    "rfcsme3.fit(X_sme3,y_sme3)\n",
    "prediction11=rfcsme3.predict(X_test3)\n",
    "classresults(prediction11,y_test3)"
   ]
  },
  {
   "cell_type": "markdown",
   "metadata": {},
   "source": [
    "In this second metric we can see that the SMOTE F2 score of .8025 is better than the SMOTEEN F2 score of .7939. This validates our claim that the two methods perform about the same, and the main difference in performance comes from the split in the data. "
   ]
  },
  {
   "cell_type": "markdown",
   "metadata": {},
   "source": [
    "### Discussion of none primary metrics\n",
    "Naively, some way be interested in the Cross Validation scores to determine the fitness of each model. We included them here merely as an exercise in coding, but wanted to point out that it's not a good/valid measure of our interest in using sampling methods to make better models. Cross Validation primarily focuses on how your model is constructed and whether the procedure you are using will produce a good result. Since we are using the same parameters for our model fitting, only the sampling process is different for each, cross validation does little in telling us how effective our models will perform on real data, only on the modified data. Unsurprisingly the sampling methods that produced data sets that were mostly equally distributed (Random Undersample, SMOTE, and SMOTEEN) had the highest cross validation scores, which is more of an indication that the more balanced a data set, the easier it is to model, not that one method was particularly better than the other. \n",
    "\n",
    "\n"
   ]
  },
  {
   "cell_type": "markdown",
   "metadata": {},
   "source": [
    "\n"
   ]
  }
 ],
 "metadata": {
  "kernelspec": {
   "display_name": "Python 3 (ipykernel)",
   "language": "python",
   "name": "python3"
  },
  "language_info": {
   "codemirror_mode": {
    "name": "ipython",
    "version": 3
   },
   "file_extension": ".py",
   "mimetype": "text/x-python",
   "name": "python",
   "nbconvert_exporter": "python",
   "pygments_lexer": "ipython3",
   "version": "3.9.17"
  }
 },
 "nbformat": 4,
 "nbformat_minor": 4
}
